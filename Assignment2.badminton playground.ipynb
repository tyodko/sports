{
 "cells": [
  {
   "cell_type": "code",
   "execution_count": 16,
   "id": "3936f125",
   "metadata": {},
   "outputs": [],
   "source": [
    "#drawing lines\n",
    "import matplotlib.pyplot as plt\n",
    "from matplotlib.patches import Arc"
   ]
  },
  {
   "cell_type": "code",
   "execution_count": 17,
   "id": "5e5b6ba3",
   "metadata": {},
   "outputs": [
    {
     "data": {
      "image/png": "[encoded data removed]",
      "text/plain": [
       "<Figure size 432x288 with 1 Axes>"
      ]
     },
     "metadata": {
      "needs_background": "light"
     },
     "output_type": "display_data"
    }
   ],
   "source": [
    "#drawing lines in the court\n",
    "fig=plt.figure()\n",
    "ax=fig.add_subplot(1,1,1)\n",
    "plt.plot([0,0],[0,61],color=\"white\")\n",
    "plt.plot([7.2,7.2],[0,61],color=\"white\")\n",
    "plt.plot([0,134],[61,61],color=\"white\")\n",
    "plt.plot([0,134],[56.8,56.8],color=\"white\")\n",
    "plt.plot([134,134],[61,0], color=\"white\")\n",
    "plt.plot([126.8,126.8],[0,61],color=\"white\")\n",
    "plt.plot([134,0],[0,0], color=\"white\")\n",
    "plt.plot([0,134],[4.2,4.2],color=\"white\")\n",
    "plt.plot([67,67],[0,61], color=\"white\")\n",
    "plt.plot([46,46],[0,61],color=\"white\")\n",
    "plt.plot([88,88],[0,61],color=\"white\")\n",
    "plt.plot([0,46],[30.5,30.5],color=\"white\")\n",
    "plt.plot([88,134],[30.5,30.5],color=\"white\")\n",
    "#background\n",
    "plt.rcParams['axes.facecolor']='green'\n",
    "#remove the axis\n",
    "ax.get_xaxis().set_visible(False)\n",
    "ax.get_yaxis().set_visible(False)\n",
    "#save the image\n",
    "plt.savefig(\"saved.png\")\n",
    "plt.show()"
   ]
  },
  {
   "cell_type": "code",
   "execution_count": null,
   "id": "3cc40d61",
   "metadata": {},
   "outputs": [],
   "source": []
  }
 ],
 "metadata": {
  "kernelspec": {
   "display_name": "Python 3 (ipykernel)",
   "language": "python",
   "name": "python3"
  },
  "language_info": {
   "codemirror_mode": {
    "name": "ipython",
    "version": 3
   },
   "file_extension": ".py",
   "mimetype": "text/x-python",
   "name": "python",
   "nbconvert_exporter": "python",
   "pygments_lexer": "ipython3",
   "version": "3.9.12"
  }
 },
 "nbformat": 4,
 "nbformat_minor": 5
}
