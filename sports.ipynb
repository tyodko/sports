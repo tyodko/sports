{
 "cells": [
  {
   "cell_type": "code",
   "execution_count": 3,
   "id": "18459622",
   "metadata": {},
   "outputs": [
    {
     "ename": "NameError",
     "evalue": "name 'plt' is not defined",
     "output_type": "error",
     "traceback": [
      "\u001b[0;31m---------------------------------------------------------------------------\u001b[0m",
      "\u001b[0;31mNameError\u001b[0m                                 Traceback (most recent call last)",
      "Input \u001b[0;32mIn [3]\u001b[0m, in \u001b[0;36m<cell line: 1>\u001b[0;34m()\u001b[0m\n\u001b[0;32m----> 1\u001b[0m \u001b[43mplt\u001b[49m\u001b[38;5;241m.\u001b[39mplot(f)\n\u001b[1;32m      2\u001b[0m \u001b[38;5;28;01mimport\u001b[39;00m \u001b[38;5;21;01mmatplotlib\u001b[39;00m\u001b[38;5;21;01m.\u001b[39;00m\u001b[38;5;21;01mpatches\u001b[39;00m \u001b[38;5;28;01mas\u001b[39;00m \u001b[38;5;21;01mpatches\u001b[39;00m\n\u001b[1;32m      3\u001b[0m \u001b[38;5;28;01mfrom\u001b[39;00m \u001b[38;5;21;01mmatplotlib\u001b[39;00m\u001b[38;5;21;01m.\u001b[39;00m\u001b[38;5;21;01mlines\u001b[39;00m \u001b[38;5;28;01mimport\u001b[39;00m Line2D\n",
      "\u001b[0;31mNameError\u001b[0m: name 'plt' is not defined"
     ]
    }
   ],
   "source": [
    "plt.plot(f)\n",
    "import matplotlib.patches as patches\n",
    "from matplotlib.lines import Line2D\n",
    "\n",
    "def draw_rectangle(ax, x, y, width, height, **kwargs):\n",
    "    rectangle = patches.Rectangle((x, y), width, height, **kwargs)\n",
    "    ax.add_patch(rectangle)\n",
    "    return rectangle\n",
    "\n",
    "def draw_line(ax, x, y, **kwargs):\n",
    "    line = Line2D(x, y, **kwargs)\n",
    "    ax.add_artist(line)\n",
    "\n",
    "def draw_ellipse(ax, x, y, width, height, **kwargs):\n",
    "    ellipse = patches.Ellipse((x, y), width, height, **kwargs)\n",
    "    ax.add_patch(ellipse)\n",
    "\n",
    "def draw_arc(ax, x, y, width, height, theta1, theta2, **kwargs):\n",
    "    arc = patches.Arc((x, y), width, height, theta1=theta1, theta2=theta2, **kwargs)\n",
    "    ax.add_patch(arc)"
   ]
  },
  {
   "cell_type": "code",
   "execution_count": 4,
   "id": "9211739f",
   "metadata": {},
   "outputs": [
    {
     "ename": "NameError",
     "evalue": "name 'plt' is not defined",
     "output_type": "error",
     "traceback": [
      "\u001b[0;31m---------------------------------------------------------------------------\u001b[0m",
      "\u001b[0;31mNameError\u001b[0m                                 Traceback (most recent call last)",
      "Input \u001b[0;32mIn [4]\u001b[0m, in \u001b[0;36m<cell line: 13>\u001b[0;34m()\u001b[0m\n\u001b[1;32m     11\u001b[0m     plt\u001b[38;5;241m.\u001b[39mshow()\n\u001b[1;32m     12\u001b[0m     \u001b[38;5;28;01mreturn\u001b[39;00m fig, ax\n\u001b[0;32m---> 13\u001b[0m \u001b[43mplaying_surface\u001b[49m\u001b[43m(\u001b[49m\u001b[43m)\u001b[49m\n",
      "Input \u001b[0;32mIn [4]\u001b[0m, in \u001b[0;36mplaying_surface\u001b[0;34m(color)\u001b[0m\n\u001b[1;32m      1\u001b[0m \u001b[38;5;28;01mdef\u001b[39;00m \u001b[38;5;21mplaying_surface\u001b[39m(color \u001b[38;5;241m=\u001b[39m \u001b[38;5;124m\"\u001b[39m\u001b[38;5;124mgreen\u001b[39m\u001b[38;5;124m\"\u001b[39m):\n\u001b[0;32m----> 3\u001b[0m     fig, ax \u001b[38;5;241m=\u001b[39m \u001b[43mplt\u001b[49m\u001b[38;5;241m.\u001b[39msubplots()\n\u001b[1;32m      5\u001b[0m     draw_rectangle(ax,x\u001b[38;5;241m=\u001b[39m\u001b[38;5;241m5\u001b[39m,y\u001b[38;5;241m=\u001b[39m\u001b[38;5;241m5\u001b[39m, width\u001b[38;5;241m=\u001b[39m\u001b[38;5;241m2\u001b[39m, height\u001b[38;5;241m=\u001b[39m\u001b[38;5;241m2\u001b[39m)\n\u001b[1;32m      6\u001b[0m     draw_ellipse(ax, x\u001b[38;5;241m=\u001b[39m\u001b[38;5;241m2\u001b[39m, y\u001b[38;5;241m=\u001b[39m\u001b[38;5;241m2\u001b[39m, width\u001b[38;5;241m=\u001b[39m\u001b[38;5;241m3\u001b[39m, height\u001b[38;5;241m=\u001b[39m\u001b[38;5;241m4\u001b[39m, color\u001b[38;5;241m=\u001b[39mcolor)\n",
      "\u001b[0;31mNameError\u001b[0m: name 'plt' is not defined"
     ]
    }
   ],
   "source": [
    "def playing_surface(color = \"green\"):\n",
    "\n",
    "    fig, ax = plt.subplots()\n",
    "\n",
    "    draw_rectangle(ax,x=5,y=5, width=2, height=2)\n",
    "    draw_ellipse(ax, x=2, y=2, width=3, height=4, color=color)\n",
    "\n",
    "    ax.set_xlim([0, 20])\n",
    "    ax.set_ylim([0, 20])\n",
    "    plt.axis('off')\n",
    "    plt.show()\n",
    "    return fig, ax\n",
    "playing_surface()\n"
   ]
  },
  {
   "cell_type": "code",
   "execution_count": 5,
   "id": "c8ccd921",
   "metadata": {},
   "outputs": [
    {
     "data": {
      "image/png": "[encoded data removed]",
      "text/plain": [
       "<Figure size 432x288 with 1 Axes>"
      ]
     },
     "metadata": {
      "needs_background": "light"
     },
     "output_type": "display_data"
    }
   ],
   "source": [
    "import matplotlib.pyplot as plt\n",
    "plt.plot([1, 2, 3, 4])\n",
    "plt.ylabel('some numbers')\n",
    "plt.show()"
   ]
  },
  {
   "cell_type": "code",
   "execution_count": 9,
   "id": "2c2b6165",
   "metadata": {},
   "outputs": [
    {
     "data": {
      "text/plain": [
       "[<matplotlib.lines.Line2D at 0x11f4defd0>]"
      ]
     },
     "execution_count": 9,
     "metadata": {},
     "output_type": "execute_result"
    },
    {
     "data": {
      "image/png": "[encoded data removed]",
      "text/plain": [
       "<Figure size 432x288 with 1 Axes>"
      ]
     },
     "metadata": {
      "needs_background": "light"
     },
     "output_type": "display_data"
    }
   ],
   "source": [
    "plt.plot([1, 2, 3, 4], [2,5,7,9])"
   ]
  },
  {
   "cell_type": "code",
   "execution_count": 10,
   "id": "9c04e55f",
   "metadata": {},
   "outputs": [],
   "source": [
    "import matplotlib.patches as patches\n",
    "from matplotlib.lines import Line2D\n",
    "\n",
    "def draw_rectangle(ax, x, y, width, height, **kwargs):\n",
    "    rectangle = patches.Rectangle((x, y), width, height, **kwargs)\n",
    "    ax.add_patch(rectangle)\n",
    "    return rectangle\n",
    "\n",
    "def draw_line(ax, x, y, **kwargs):\n",
    "    line = Line2D(x, y, **kwargs)\n",
    "    ax.add_artist(line)\n",
    "\n",
    "def draw_ellipse(ax, x, y, width, height, **kwargs):\n",
    "    ellipse = patches.Ellipse((x, y), width, height, **kwargs)\n",
    "    ax.add_patch(ellipse)\n",
    "\n",
    "def draw_arc(ax, x, y, width, height, theta1, theta2, **kwargs):\n",
    "    arc = patches.Arc((x, y), width, height, theta1=theta1, theta2=theta2, **kwargs)\n",
    "    ax.add_patch(arc)"
   ]
  },
  {
   "cell_type": "code",
   "execution_count": 11,
   "id": "67a01bff",
   "metadata": {},
   "outputs": [
    {
     "ename": "NameError",
     "evalue": "name 'ax' is not defined",
     "output_type": "error",
     "traceback": [
      "\u001b[0;31m---------------------------------------------------------------------------\u001b[0m",
      "\u001b[0;31mNameError\u001b[0m                                 Traceback (most recent call last)",
      "Input \u001b[0;32mIn [11]\u001b[0m, in \u001b[0;36m<cell line: 1>\u001b[0;34m()\u001b[0m\n\u001b[0;32m----> 1\u001b[0m draw_rectangle(\u001b[43max\u001b[49m,x\u001b[38;5;241m=\u001b[39m\u001b[38;5;241m5\u001b[39m,y\u001b[38;5;241m=\u001b[39m\u001b[38;5;241m5\u001b[39m, width\u001b[38;5;241m=\u001b[39m\u001b[38;5;241m2\u001b[39m, height\u001b[38;5;241m=\u001b[39m\u001b[38;5;241m2\u001b[39m)\n",
      "\u001b[0;31mNameError\u001b[0m: name 'ax' is not defined"
     ]
    }
   ],
   "source": [
    "draw_rectangle(ax,x=5,y=5, width=2, height=2)"
   ]
  },
  {
   "cell_type": "code",
   "execution_count": 25,
   "id": "0dabfb3e",
   "metadata": {},
   "outputs": [],
   "source": [
    "import matplotlib.pyplot as plt\n",
    "import matplotlib.patches as patches\n",
    "from matplotlib.lines import Line2D\n",
    "\n",
    "def draw_rectangle(ax, x, y, width, height, **kwargs):\n",
    "    rectangle = patches.Rectangle((x, y), width, height, **kwargs)\n",
    "    ax.add_patch(rectangle)\n",
    "    return rectangle\n",
    "\n",
    "def draw_line(ax, x, y, **kwargs):\n",
    "    line = Line2D(x, y, **kwargs)\n",
    "    ax.add_artist(line)\n",
    "\n",
    "def draw_ellipse(ax, x, y, width, height, **kwargs):\n",
    "    ellipse = patches.Ellipse((x, y), width, height, **kwargs)\n",
    "    ax.add_patch(ellipse)\n",
    "\n",
    "def draw_arc(ax, x, y, width, height, theta1, theta2, **kwargs):\n",
    "    arc = patches.Arc((x, y), width, height, theta1=theta1, theta2=theta2, **kwargs)\n",
    "    ax.add_patch(arc)"
   ]
  },
  {
   "cell_type": "code",
   "execution_count": 30,
   "id": "46ab3976",
   "metadata": {},
   "outputs": [
    {
     "data": {
      "image/png": "[encoded data removed]",
      "text/plain": [
       "<Figure size 432x288 with 1 Axes>"
      ]
     },
     "metadata": {
      "needs_background": "light"
     },
     "output_type": "display_data"
    },
    {
     "data": {
      "text/plain": [
       "(<Figure size 432x288 with 1 Axes>, <AxesSubplot:>)"
      ]
     },
     "execution_count": 30,
     "metadata": {},
     "output_type": "execute_result"
    }
   ],
   "source": [
    "def playing_surface(color = \"r\"):\n",
    "\n",
    "    fig, ax = plt.subplots()\n",
    "\n",
    "    draw_rectangle(ax,x=0,y=0, width=134, height=61)\n",
    "    draw_rectangle(ax,x=0,y=0,width=134,height=1)\n",
    "    ax.set_xlim([0, 20])x\n",
    "    ax.set_ylim([0, 20])\n",
    "    plt.axis('off')\n",
    "    plt.show()\n",
    "    return fig, ax\n",
    "playing_surface()"
   ]
  },
  {
   "cell_type": "code",
   "execution_count": 33,
   "id": "3936f125",
   "metadata": {},
   "outputs": [],
   "source": [
    "#drawing lines\n",
    "import matplotlib.pyplot as plt\n",
    "from matplotlib.patches import Arc"
   ]
  },
  {
   "cell_type": "code",
   "execution_count": 78,
   "id": "5e5b6ba3",
   "metadata": {},
   "outputs": [
    {
     "data": {
      "image/png": "[encoded data removed]",
      "text/plain": [
       "<Figure size 432x288 with 1 Axes>"
      ]
     },
     "metadata": {
      "needs_background": "light"
     },
     "output_type": "display_data"
    }
   ],
   "source": [
    "\n",
    "fig=plt.figure()\n",
    "ax=fig.add_subplot(1,1,1)\n",
    "plt.plot([0,0],[0,61],color=\"white\")\n",
    "plt.plot([7.2,7.2],[0,61],color=\"white\")\n",
    "plt.plot([0,134],[61,61],color=\"white\")\n",
    "plt.plot([0,134],[56.8,56.8],color=\"white\")\n",
    "plt.plot([134,134],[61,0], color=\"white\")\n",
    "plt.plot([126.8,126.8],[0,61],color=\"white\")\n",
    "plt.plot([134,0],[0,0], color=\"white\")\n",
    "plt.plot([0,134],[4.2,4.2],color=\"white\")\n",
    "plt.plot([67,67],[0,61], color=\"white\")\n",
    "plt.plot([46,46],[0,61],color=\"white\")\n",
    "plt.plot([88,88],[0,61],color=\"white\")\n",
    "plt.plot([0,46],[30.5,30.5],color=\"white\")\n",
    "plt.plot([88,134],[30.5,30.5],color=\"white\")\n",
    "#background\n",
    "plt.rcParams['axes.facecolor']='green'\n",
    "plt.savefig(\"saved.png\")\n",
    "plt.show()"
   ]
  },
  {
   "cell_type": "code",
   "execution_count": null,
   "id": "3cc40d61",
   "metadata": {},
   "outputs": [],
   "source": []
  }
 ],
 "metadata": {
  "kernelspec": {
   "display_name": "Python 3 (ipykernel)",
   "language": "python",
   "name": "python3"
  },
  "language_info": {
   "codemirror_mode": {
    "name": "ipython",
    "version": 3
   },
   "file_extension": ".py",
   "mimetype": "text/x-python",
   "name": "python",
   "nbconvert_exporter": "python",
   "pygments_lexer": "ipython3",
   "version": "3.9.12"
  }
 },
 "nbformat": 4,
 "nbformat_minor": 5
}
